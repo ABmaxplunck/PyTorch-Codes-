{
  "nbformat": 4,
  "nbformat_minor": 0,
  "metadata": {
    "colab": {
      "name": "02 Linear Regression.ipynb",
      "provenance": [],
      "authorship_tag": "ABX9TyPGO8VmdzHI44kdrscuaXj8",
      "include_colab_link": true
    },
    "kernelspec": {
      "name": "python3",
      "display_name": "Python 3"
    },
    "language_info": {
      "name": "python"
    }
  },
  "cells": [
    {
      "cell_type": "markdown",
      "metadata": {
        "id": "view-in-github",
        "colab_type": "text"
      },
      "source": [
        "<a href=\"https://colab.research.google.com/github/ABmaxplunck/PyTorch-Codes-/blob/main/02_Linear_Regression.ipynb\" target=\"_parent\"><img src=\"https://colab.research.google.com/assets/colab-badge.svg\" alt=\"Open In Colab\"/></a>"
      ]
    },
    {
      "cell_type": "markdown",
      "source": [
        "Linear Regression one of the foundational algorithm of machine learning.\n",
        "we will create a model that preducts crop yields for apples and oranges (target variables) by looking at the average temparature, rainfall and humidity (input variables or features) in a region."
      ],
      "metadata": {
        "id": "i_GxBm_DzNoL"
      }
    },
    {
      "cell_type": "code",
      "execution_count": 25,
      "metadata": {
        "id": "k9P4RmkynkWC"
      },
      "outputs": [],
      "source": [
        "import numpy as np\n",
        "import torch"
      ]
    },
    {
      "cell_type": "markdown",
      "source": [
        "### Training data\n",
        "The training data can be represented using 2 matrices: inputs and targets, each with one row per observation and one column per variable"
      ],
      "metadata": {
        "id": "kSaX6a9DsMdJ"
      }
    },
    {
      "cell_type": "code",
      "source": [
        "  # input(temp,rainfall,humidity)\n",
        "  \n",
        "  inputs = np.array([[73,67,43],\n",
        "                      [91,88,64],\n",
        "                      [87,134,58],\n",
        "                      [102,13,37],\n",
        "                      [69,96,70]], dtype='float32')"
      ],
      "metadata": {
        "id": "7CvETz7orBuz"
      },
      "execution_count": 26,
      "outputs": []
    },
    {
      "cell_type": "code",
      "source": [
        "# Targets(apples, oranges)\n",
        "targets = np.array([[56,70],\n",
        "                    [81,101],\n",
        "                    [119,133],\n",
        "                    [22,37],\n",
        "                    [103,119]], dtype='float32')"
      ],
      "metadata": {
        "id": "IzVjgZjt3rBf"
      },
      "execution_count": 27,
      "outputs": []
    },
    {
      "cell_type": "markdown",
      "source": [
        "we've seperated the input and target variables, because we'll operate on them seperately. Also, we've created numpy arrays, because this is typically how you would work with training data:read some CSV files as numpy arrays, do some processing and then convert them to Pytorch tensors as follows:"
      ],
      "metadata": {
        "id": "FTCk4I0J49h2"
      }
    },
    {
      "cell_type": "code",
      "source": [
        "# convert input and targets to tensors \n",
        "inputs = torch.from_numpy(inputs)\n",
        "targets = torch.from_numpy(targets)\n",
        "print(inputs)\n",
        "print(targets)\n"
      ],
      "metadata": {
        "colab": {
          "base_uri": "https://localhost:8080/"
        },
        "id": "T2u1XvUW47NI",
        "outputId": "e70ad110-5999-4c51-8683-17256cb02ac6"
      },
      "execution_count": 28,
      "outputs": [
        {
          "output_type": "stream",
          "name": "stdout",
          "text": [
            "tensor([[ 73.,  67.,  43.],\n",
            "        [ 91.,  88.,  64.],\n",
            "        [ 87., 134.,  58.],\n",
            "        [102.,  13.,  37.],\n",
            "        [ 69.,  96.,  70.]])\n",
            "tensor([[ 56.,  70.],\n",
            "        [ 81., 101.],\n",
            "        [119., 133.],\n",
            "        [ 22.,  37.],\n",
            "        [103., 119.]])\n"
          ]
        }
      ]
    },
    {
      "cell_type": "code",
      "source": [
        ""
      ],
      "metadata": {
        "id": "Zckva_Z-wJ77"
      },
      "execution_count": 28,
      "outputs": []
    },
    {
      "cell_type": "markdown",
      "source": [
        "### Linear regression model from scratch\n",
        "The weights and biases (w11, w12,...., w23, b1 & b2) cann also be represented as matrices, initialized as random values. The first row of w and the first element of b are used to predict the first target variable i.e: yield of apples and similarly the second for oranges."
      ],
      "metadata": {
        "id": "uwOQQn6F8xyf"
      }
    },
    {
      "cell_type": "code",
      "source": [
        "# weigts and biases \n",
        "\n",
        "w = torch.randn(2, 3, requires_grad=True) # it has 2 row and 3 col\n",
        "b = torch.randn(2, requires_grad=True) # it has 2 row  \n",
        "print(w)\n",
        "print(b)\n"
      ],
      "metadata": {
        "id": "m4qE1LqO8vco",
        "colab": {
          "base_uri": "https://localhost:8080/"
        },
        "outputId": "242f0bb8-a93f-4c5d-8ab8-17793c7d30b1"
      },
      "execution_count": 29,
      "outputs": [
        {
          "output_type": "stream",
          "name": "stdout",
          "text": [
            "tensor([[ 0.6724, -1.3824, -0.5022],\n",
            "        [-1.2477, -0.0517,  0.5013]], requires_grad=True)\n",
            "tensor([-1.7851,  1.5429], requires_grad=True)\n"
          ]
        }
      ]
    },
    {
      "cell_type": "markdown",
      "source": [
        "we can define the model as follows:\n"
      ],
      "metadata": {
        "id": "W5KxxxkW1zme"
      }
    },
    {
      "cell_type": "code",
      "source": [
        "def model(x):\n",
        "  return x @ w.t() + b"
      ],
      "metadata": {
        "id": "IJuCZEyxyRk2"
      },
      "execution_count": 30,
      "outputs": []
    },
    {
      "cell_type": "markdown",
      "source": [
        "`@` represent the matrix multiplication in Pytorch and the `.t` method returns the transpose of a tensor\n",
        "\n",
        "The matrix obtained by passing the input data into the model is a set of predictions for the target variables"
      ],
      "metadata": {
        "id": "jG216-HL2QZS"
      }
    },
    {
      "cell_type": "code",
      "source": [
        "# Generate predictions\n",
        "preds = model(inputs)\n",
        "print(preds)\n"
      ],
      "metadata": {
        "colab": {
          "base_uri": "https://localhost:8080/"
        },
        "id": "vE8J8Y5K2YLU",
        "outputId": "5b8919e3-e714-40db-a877-f2749ed3f2a9"
      },
      "execution_count": 31,
      "outputs": [
        {
          "output_type": "stream",
          "name": "stdout",
          "text": [
            "tensor([[ -66.9168,  -71.4419],\n",
            "        [ -94.3903,  -84.4573],\n",
            "        [-157.6593,  -84.8507],\n",
            "        [  30.2472, -107.8426],\n",
            "        [-123.2553,  -54.4141]], grad_fn=<AddBackward0>)\n"
          ]
        }
      ]
    },
    {
      "cell_type": "markdown",
      "source": [
        "let's compare the predictions of our model with the actual targets"
      ],
      "metadata": {
        "id": "NgSRdipo9mNX"
      }
    },
    {
      "cell_type": "code",
      "source": [
        "# compare with targets \n",
        "print(targets)"
      ],
      "metadata": {
        "colab": {
          "base_uri": "https://localhost:8080/"
        },
        "id": "2M5mFW4D9ar_",
        "outputId": "865e1125-7c82-4179-a379-0109a8146d3f"
      },
      "execution_count": 32,
      "outputs": [
        {
          "output_type": "stream",
          "name": "stdout",
          "text": [
            "tensor([[ 56.,  70.],\n",
            "        [ 81., 101.],\n",
            "        [119., 133.],\n",
            "        [ 22.,  37.],\n",
            "        [103., 119.]])\n"
          ]
        }
      ]
    },
    {
      "cell_type": "markdown",
      "source": [
        "you can see that there's a huge differnce between the predictions of our model and the actual values of the target variables. Obviously this is because we've initialized our model with random weights and biases and we can't expect it to just work "
      ],
      "metadata": {
        "id": "hBFOAnUiAZfg"
      }
    },
    {
      "cell_type": "markdown",
      "source": [
        "### Loss Function\n",
        "Before we improve our model, we need a way to evaluate how well our model is performing. we can compare the model's precitions with the actual targets, using the following method:\n",
        "\n",
        "* calculate the difference between the two matrices (preds and targets)\n",
        "* square all elements of the difference matrix to remove negative values \n",
        "* calculate the average of the elements in the resulting matrix\n",
        "\n",
        "The result is a single number known as the `mean squared error (MSE)`"
      ],
      "metadata": {
        "id": "qpWi_sKwBASa"
      }
    },
    {
      "cell_type": "code",
      "source": [
        "\n",
        "diff = preds - targets\n",
        "diff_sqr = diff * diff # element wise multiplication \n",
        "torch.sum(diff_sqr) /  diff.numel()  # using .numel method to get the num of element "
      ],
      "metadata": {
        "colab": {
          "base_uri": "https://localhost:8080/"
        },
        "id": "54lJNz4g9v7B",
        "outputId": "f76847ac-9cf5-46d1-bd41-e7f1a1f87755"
      },
      "execution_count": 33,
      "outputs": [
        {
          "output_type": "execute_result",
          "data": {
            "text/plain": [
              "tensor(32658.1191, grad_fn=<DivBackward0>)"
            ]
          },
          "metadata": {},
          "execution_count": 33
        }
      ]
    },
    {
      "cell_type": "code",
      "source": [
        "# MSE loss function\n",
        "\n",
        "def mse(t1,t2):\n",
        "  diff = t1 -t2\n",
        "  return torch.sum(diff * diff)/diff.numel()"
      ],
      "metadata": {
        "id": "IKb_laLqA_ew"
      },
      "execution_count": 34,
      "outputs": []
    },
    {
      "cell_type": "markdown",
      "source": [
        "`torch.sum` returns the sum of all the elements in a tensor and the `.numel` method returns the number of elements in a tensor. Let's compute the mean squared error for the current predictions of our model "
      ],
      "metadata": {
        "id": "8DYee4QRK5Bh"
      }
    },
    {
      "cell_type": "code",
      "source": [
        "# compute loss\n",
        "loss = mse(preds, targets)\n",
        "print(loss)\n",
        "\n"
      ],
      "metadata": {
        "colab": {
          "base_uri": "https://localhost:8080/"
        },
        "id": "JwMS_bw0LT59",
        "outputId": "853a6d16-4a04-4c8e-e1e2-daf09ea8fb97"
      },
      "execution_count": 35,
      "outputs": [
        {
          "output_type": "stream",
          "name": "stdout",
          "text": [
            "tensor(32658.1191, grad_fn=<DivBackward0>)\n"
          ]
        }
      ]
    },
    {
      "cell_type": "markdown",
      "source": [
        "here's how we can interpret the result: On average each element in the prediction differs from the actual target by about 138(square root of the loss 19044). And that's pretty bad, considerting the numbers we are trying to predict are themselves in the range 50-200. Also, the result is called the loss, because it indicates how bad the model is at preciting the target variables. Lower the loss better the model "
      ],
      "metadata": {
        "id": "AgbgGQVqMkeB"
      }
    },
    {
      "cell_type": "markdown",
      "source": [
        "### Compute gradients\n",
        "With PyTorch, we can automatically compute the gradient or derivative of the loss w.r.t to the weights and biases, because they have requires_grad set to True"
      ],
      "metadata": {
        "id": "UrZM8lezN8Z5"
      }
    },
    {
      "cell_type": "code",
      "source": [
        "# Compute gradients \n",
        "\n",
        "loss.backward()"
      ],
      "metadata": {
        "id": "f2fR4onLLcat"
      },
      "execution_count": 36,
      "outputs": []
    },
    {
      "cell_type": "markdown",
      "source": [
        "The gradients are stored in the `.grad` property of the respective tensors. Note that the derivative of the loss w.r.t the weights matrix is itself a matrix, with the same dimensions "
      ],
      "metadata": {
        "id": "_77VOmjuOlsg"
      }
    },
    {
      "cell_type": "code",
      "source": [
        "# Gradients for weights\n",
        "print(w)\n",
        "print(w.grad)"
      ],
      "metadata": {
        "colab": {
          "base_uri": "https://localhost:8080/"
        },
        "id": "5L9C5kGRvJrV",
        "outputId": "21501b33-33b2-48ed-d079-d98574cbad64"
      },
      "execution_count": 37,
      "outputs": [
        {
          "output_type": "stream",
          "name": "stdout",
          "text": [
            "tensor([[ 0.6724, -1.3824, -0.5022],\n",
            "        [-1.2477, -0.0517,  0.5013]], requires_grad=True)\n",
            "tensor([[-12754.6426, -16471.0840,  -9617.8750],\n",
            "        [-14578.8799, -14703.9111,  -9616.9551]])\n"
          ]
        }
      ]
    },
    {
      "cell_type": "markdown",
      "source": [
        "`w` is a weight matrix or tensor.\n",
        "I have each corresponding weights and derivative of the loss\n",
        "\n",
        "from `print(w)` we get losses which are w11, w12 etc etc \n",
        "\n",
        "from `print(w.grad)` we get derivative of the loss element. these are d loss by dw11, this is d loss by dw12 etc etc "
      ],
      "metadata": {
        "id": "H4J4fWaJvj-l"
      }
    },
    {
      "cell_type": "code",
      "source": [
        "# For bias \n",
        "print(b)\n",
        "print(b.grad)"
      ],
      "metadata": {
        "colab": {
          "base_uri": "https://localhost:8080/"
        },
        "id": "Qx1wcmwxvTSH",
        "outputId": "e1e7667b-0a87-4f6b-8357-c71319fc03a3"
      },
      "execution_count": 38,
      "outputs": [
        {
          "output_type": "stream",
          "name": "stdout",
          "text": [
            "tensor([-1.7851,  1.5429], requires_grad=True)\n",
            "tensor([-158.5949, -172.6013])\n"
          ]
        }
      ]
    },
    {
      "cell_type": "markdown",
      "source": [
        "\n",
        "\n",
        "> Indented block\n",
        "\n",
        "\n",
        "The loss is a `quadratic function` of our weights and biases, and our objective is to find the set of weights where the loss is the lowest. If we plot a graph of the loss w.r.t any individual weight or bias element, it will look like figureshown below. A key insight from calculus is that the gradient indicates the rate of change of the loss, or the slope of the graph or loss function w.r.t the weights and biases\n",
        "\n",
        "If a gradient element is `positive` \n",
        "* increasing the element's value slightly will increase the loss\n",
        "\n",
        "* decreasing the element's value slightly will decrease the loss\n",
        "\n",
        "If the gradient element is `negative` \n",
        "* increasing the element's value slightly will decrease the loss\n",
        "\n",
        "* decreasing the element's value slightly will increase the loss\n",
        "\n",
        "\n",
        "\n",
        "Before we proceed we reset the gradients to zero by calling `.zero_()` method. we need to do this, because PyTorch accumulates gradients i.e: the next time we call `.backward` on the loss, the new gradient values will get added to the existing gradient values, which may lead to unexpected results "
      ],
      "metadata": {
        "id": "VLlHasdyzlnM"
      }
    },
    {
      "cell_type": "code",
      "source": [
        "\n",
        "w.grad.zero_()\n",
        "b.grad.zero_()\n",
        "print(w.grad)\n",
        "print(b.grad)"
      ],
      "metadata": {
        "colab": {
          "base_uri": "https://localhost:8080/"
        },
        "id": "evfZ28gfzh_U",
        "outputId": "18e98124-f0e3-4200-a58d-b263fd8e53c2"
      },
      "execution_count": 39,
      "outputs": [
        {
          "output_type": "stream",
          "name": "stdout",
          "text": [
            "tensor([[0., 0., 0.],\n",
            "        [0., 0., 0.]])\n",
            "tensor([0., 0.])\n"
          ]
        }
      ]
    },
    {
      "cell_type": "markdown",
      "source": [
        "### Adjust weights and biases using gradient descent\n",
        "we'll reduce the loss and improve our model using the gradient descent optimization algorithm, which has the follwing steps:\n",
        "1. Generate predictions\n",
        "2. Calculate the loss\n",
        "3. compute gradients w.r.t the weights and biases\n",
        "4. Adjust the weights by subtracting a small quantity proportional to the gradient \n",
        "5. Reset the gradients to zero"
      ],
      "metadata": {
        "id": "zpHnK02sIKiC"
      }
    },
    {
      "cell_type": "code",
      "source": [
        "# Generate predictions\n",
        "\n",
        "preds = model(inputs)\n",
        "print(preds)"
      ],
      "metadata": {
        "colab": {
          "base_uri": "https://localhost:8080/"
        },
        "id": "733ZYUnLGg3n",
        "outputId": "9ca3b398-34e4-445a-d5ce-24a0d11abb5a"
      },
      "execution_count": 40,
      "outputs": [
        {
          "output_type": "stream",
          "name": "stdout",
          "text": [
            "tensor([[ -66.9168,  -71.4419],\n",
            "        [ -94.3903,  -84.4573],\n",
            "        [-157.6593,  -84.8507],\n",
            "        [  30.2472, -107.8426],\n",
            "        [-123.2553,  -54.4141]], grad_fn=<AddBackward0>)\n"
          ]
        }
      ]
    },
    {
      "cell_type": "code",
      "source": [
        ""
      ],
      "metadata": {
        "id": "dEC1uaHwKu5w"
      },
      "execution_count": 40,
      "outputs": []
    },
    {
      "cell_type": "markdown",
      "source": [
        "note that the predictions are same as before, since we haven't made any changes to our model. the same hols true for the loss and gradients"
      ],
      "metadata": {
        "id": "2b3nOkDQJczn"
      }
    },
    {
      "cell_type": "code",
      "source": [
        "# calculate the loss\n",
        "\n",
        "loss = mse(preds, targets)\n",
        "print(loss)"
      ],
      "metadata": {
        "colab": {
          "base_uri": "https://localhost:8080/"
        },
        "id": "GY-rfuP5JY4F",
        "outputId": "f98ed23d-e381-417c-e3aa-2ef9faba3fdb"
      },
      "execution_count": 41,
      "outputs": [
        {
          "output_type": "stream",
          "name": "stdout",
          "text": [
            "tensor(32658.1191, grad_fn=<DivBackward0>)\n"
          ]
        }
      ]
    },
    {
      "cell_type": "code",
      "source": [
        "# compute gradients\n",
        "\n",
        "loss.backward()\n",
        "print(w.grad)\n",
        "print(b.grad)"
      ],
      "metadata": {
        "colab": {
          "base_uri": "https://localhost:8080/"
        },
        "id": "sYjXgrKAJy7l",
        "outputId": "007fa28c-35d3-4337-f931-1d389d8f52f3"
      },
      "execution_count": 42,
      "outputs": [
        {
          "output_type": "stream",
          "name": "stdout",
          "text": [
            "tensor([[-12754.6426, -16471.0840,  -9617.8750],\n",
            "        [-14578.8799, -14703.9111,  -9616.9551]])\n",
            "tensor([-158.5949, -172.6013])\n"
          ]
        }
      ]
    },
    {
      "cell_type": "markdown",
      "source": [
        "finally we update the weights and  biases using the gradients computed above "
      ],
      "metadata": {
        "id": "bN-zuiZECrEa"
      }
    },
    {
      "cell_type": "code",
      "source": [
        "# adjust weights and reset gradients \n",
        "\n",
        "with torch.no_grad():  # torch.no_grad() is way of telling pytorch that hey I'm done with my gradient calculations now let me use the gradients  \n",
        "  w -= w.grad * 1e-5    # when I am running this operations don't track gradient related work \n",
        "  b -= b.grad * 1e-5\n",
        "  w.grad.zero_() # reset the gradient back to zero\n",
        "  b.grad.zero_()\n"
      ],
      "metadata": {
        "id": "S1SoUd8nK2rd"
      },
      "execution_count": 43,
      "outputs": []
    },
    {
      "cell_type": "markdown",
      "source": [
        "a few things to note above:\n",
        "* we use torch.no_grad to indicate PyTorch that we shouln't track, calculate or modify gradients while updating the weights and biases\n",
        "* we multiply the gradients with a really small number (10^-5 in this case), to ensure that we don't modify the weights by a really large amount, since we only want to takse a small step in the downhill direction of the gradient. This number is called the learning rate of the algorithm \n",
        "* after we have updated the weights, we reset the gradients back to zero to avoid affecting any future computations \n",
        "\n",
        "Let's take a look at the new weights and biases "
      ],
      "metadata": {
        "id": "CcHsUM6LDUgu"
      }
    },
    {
      "cell_type": "code",
      "source": [
        "print(w)\n",
        "print(b)"
      ],
      "metadata": {
        "colab": {
          "base_uri": "https://localhost:8080/"
        },
        "id": "R8Xuzp-pDWmZ",
        "outputId": "ac1e354e-4263-4b38-b1fc-cc9374882825"
      },
      "execution_count": 44,
      "outputs": [
        {
          "output_type": "stream",
          "name": "stdout",
          "text": [
            "tensor([[ 0.7999, -1.2177, -0.4060],\n",
            "        [-1.1019,  0.0954,  0.5975]], requires_grad=True)\n",
            "tensor([-1.7835,  1.5446], requires_grad=True)\n"
          ]
        }
      ]
    },
    {
      "cell_type": "markdown",
      "source": [
        "with the new weights and biases, the model should have lower loss"
      ],
      "metadata": {
        "id": "LTL9zaXEMlGh"
      }
    },
    {
      "cell_type": "code",
      "source": [
        "# calculate loss\n",
        "preds = model(inputs)\n",
        "loss = mse(preds, targets)\n",
        "print(loss)"
      ],
      "metadata": {
        "colab": {
          "base_uri": "https://localhost:8080/"
        },
        "id": "kmVeuWXmLL5u",
        "outputId": "dfa44ddf-ffbd-4258-995a-2f2cbe7628ed"
      },
      "execution_count": 45,
      "outputs": [
        {
          "output_type": "stream",
          "name": "stdout",
          "text": [
            "tensor(23074.2910, grad_fn=<DivBackward0>)\n"
          ]
        }
      ]
    },
    {
      "cell_type": "markdown",
      "source": [
        "we have already achieved a significant reduction in the loss, simply by adjusting the weights and biases slightly using gradient descent "
      ],
      "metadata": {
        "id": "6OXFohvMNsC1"
      }
    },
    {
      "cell_type": "markdown",
      "source": [
        "## Train for multiple epochs\n",
        "\n",
        "To reduce the loss further we can repeat the process of adjusting the weights and biases using the gradients multiple times. Each iteration is called an epoch. let's train the model for 100 epochs"
      ],
      "metadata": {
        "id": "DaNOWbtuN_QU"
      }
    },
    {
      "cell_type": "code",
      "source": [
        "# Train for 100 epochs\n",
        "\n",
        "for i in range (100):\n",
        "  preds = model(inputs) # get the predictions passing the inputs \n",
        "  loss = mse(preds, targets) # get the loss by passing the predctions and targets into the mse function\n",
        "  loss.backward() # calculcate the gradients \n",
        "  with torch.no_grad(): #telling pytorch hey stop tracking gradient for a sec\n",
        "    w -= w.grad * 1e-5 # here 1e-5 is learning rate which is called hyper parameter in ML\n",
        "    b -= b.grad * 1e-5\n",
        "    w.grad.zero_()\n",
        "    b.grad.zero_()\n"
      ],
      "metadata": {
        "id": "t9_tYaecNhrO"
      },
      "execution_count": 46,
      "outputs": []
    },
    {
      "cell_type": "markdown",
      "source": [
        "once again, let's verify that the loss is now lower:"
      ],
      "metadata": {
        "id": "_Sl2Z03RQFR3"
      }
    },
    {
      "cell_type": "code",
      "source": [
        "# calcualte lose\n",
        "preds = model(inputs)\n",
        "loss = mse(preds, targets)\n",
        "print(loss)\n"
      ],
      "metadata": {
        "colab": {
          "base_uri": "https://localhost:8080/"
        },
        "id": "TPl0PKnEQJhW",
        "outputId": "6bd8acc6-8075-456b-f5f6-4cd948eae061"
      },
      "execution_count": 47,
      "outputs": [
        {
          "output_type": "stream",
          "name": "stdout",
          "text": [
            "tensor(279.1749, grad_fn=<DivBackward0>)\n"
          ]
        }
      ]
    },
    {
      "cell_type": "markdown",
      "source": [
        "As you can see, the loss is now much lower than what we started out with. Let's look at the model's predictions and compare them with the targets "
      ],
      "metadata": {
        "id": "-C-32SpM_CFS"
      }
    },
    {
      "cell_type": "code",
      "source": [
        "# precitions \n",
        "preds"
      ],
      "metadata": {
        "id": "g9SHmex3Qq9s",
        "colab": {
          "base_uri": "https://localhost:8080/"
        },
        "outputId": "c6971625-25f0-4a73-c419-af60524f867d"
      },
      "execution_count": 48,
      "outputs": [
        {
          "output_type": "execute_result",
          "data": {
            "text/plain": [
              "tensor([[ 68.0919,  73.8266],\n",
              "        [ 87.8060, 105.4909],\n",
              "        [103.5443, 130.2961],\n",
              "        [ 62.1459,  25.4397],\n",
              "        [ 79.2656, 122.0900]], grad_fn=<AddBackward0>)"
            ]
          },
          "metadata": {},
          "execution_count": 48
        }
      ]
    },
    {
      "cell_type": "code",
      "source": [
        "# targets \n",
        "targets"
      ],
      "metadata": {
        "colab": {
          "base_uri": "https://localhost:8080/"
        },
        "id": "FX9sAQl9_66w",
        "outputId": "80c03117-82a1-45b4-be87-4c018df133e8"
      },
      "execution_count": 49,
      "outputs": [
        {
          "output_type": "execute_result",
          "data": {
            "text/plain": [
              "tensor([[ 56.,  70.],\n",
              "        [ 81., 101.],\n",
              "        [119., 133.],\n",
              "        [ 22.,  37.],\n",
              "        [103., 119.]])"
            ]
          },
          "metadata": {},
          "execution_count": 49
        }
      ]
    },
    {
      "cell_type": "markdown",
      "source": [
        "The prediction are now quite close to the target variables, and we can get even better results by training for a few more epochs.\n",
        "\n",
        "At this point, we can save our notebook and upload it to the git for future reference and sharing \n"
      ],
      "metadata": {
        "id": "PAhcanYvAPa2"
      }
    },
    {
      "cell_type": "code",
      "source": [
        ""
      ],
      "metadata": {
        "id": "b9LDJDa0AIqi"
      },
      "execution_count": null,
      "outputs": []
    }
  ]
}